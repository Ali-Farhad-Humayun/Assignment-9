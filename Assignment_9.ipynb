{
  "nbformat": 4,
  "nbformat_minor": 0,
  "metadata": {
    "colab": {
      "provenance": [],
      "authorship_tag": "ABX9TyMXlxIlRqb5vxBMgnLwCTEz",
      "include_colab_link": true
    },
    "kernelspec": {
      "name": "python3",
      "display_name": "Python 3"
    },
    "language_info": {
      "name": "python"
    }
  },
  "cells": [
    {
      "cell_type": "markdown",
      "metadata": {
        "id": "view-in-github",
        "colab_type": "text"
      },
      "source": [
        "<a href=\"https://colab.research.google.com/github/Ali-Farhad-Humayun/Assignment-9/blob/main/Assignment_9.ipynb\" target=\"_parent\"><img src=\"https://colab.research.google.com/assets/colab-badge.svg\" alt=\"Open In Colab\"/></a>"
      ]
    },
    {
      "cell_type": "code",
      "execution_count": null,
      "metadata": {
        "id": "ggGDU6imxRZK"
      },
      "outputs": [],
      "source": []
    },
    {
      "cell_type": "markdown",
      "source": [
        "#Task 3: Problem Statement: Explain the use of grid-auto-row and grid-auto-column using code examples.\n",
        "\n",
        "    Answer:\n",
        "\n",
        "-  Explanation:\n",
        "\n",
        "-  grid-auto-rows and grid-auto-columns are CSS Grid properties that control the size of implicitly created grid tracks. Implicit tracks are created when you place grid items outside of the explicitly defined grid.\n",
        "\n",
        "-  grid-auto-rows: Specifies the height of implicitly created rows.\n",
        "\n",
        "-  grid-auto-column: Specifies the width of implicitly created columns.\n",
        "\n"
      ],
      "metadata": {
        "id": "touBkxiwxX3m"
      }
    },
    {
      "cell_type": "markdown",
      "source": [
        "#Task 5: Problem Statement: Explain the difference between justify-items and justify-self using code examples.\n",
        "\n",
        "    Answer:\n",
        "- Explanation:\n",
        "\n",
        "- Both justify-items and justify-self are CSS Grid properties that deal with the alignment of grid items within their grid area.\n",
        "\n",
        "- justify-items: This property applies to the grid container and sets the justify-self property for all grid items within that container. It controls the alignment along the inline (row) axis.\n",
        "- justify-self: This property applies to a single grid item and overrides the justify-items property (if any) for that specific item. It also controls alignment along the inline axis.\n",
        "Possible values for both:\n",
        "\n",
        "- start: Aligns items to the start of the grid area.\n",
        "- end: Aligns items to the end of the grid area.\n",
        "- center: Aligns items to the center of the grid area.\n",
        "- stretch: Stretches items to fill the entire grid area (this is the default for justify-items).    "
      ],
      "metadata": {
        "id": "GvUBrmTk6zPC"
      }
    }
  ]
}